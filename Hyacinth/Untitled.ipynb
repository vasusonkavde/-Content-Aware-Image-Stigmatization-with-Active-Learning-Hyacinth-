{
 "cells": [
  {
   "cell_type": "code",
   "execution_count": null,
   "metadata": {},
   "outputs": [
    {
     "name": "stdout",
     "output_type": "stream",
     "text": [
      " * Serving Flask app \"__main__\" (lazy loading)\n",
      " * Environment: production\n",
      "   WARNING: This is a development server. Do not use it in a production deployment.\n",
      "   Use a production WSGI server instead.\n",
      " * Debug mode: off\n"
     ]
    },
    {
     "name": "stderr",
     "output_type": "stream",
     "text": [
      " * Running on http://127.0.0.1:5000/ (Press CTRL+C to quit)\n",
      "127.0.0.1 - - [22/Jun/2022 14:13:11] \"\u001b[37mGET / HTTP/1.1\u001b[0m\" 200 -\n"
     ]
    }
   ],
   "source": [
    "from flask import Flask, render_template, redirect, request\n",
    "\n",
    "import Caption_it\n",
    "\n",
    "\n",
    "# __name__ == __main__\n",
    "app = Flask(__name__)\n",
    "\n",
    "\n",
    "@app.route('/')\n",
    "def hello():\n",
    "\treturn render_template(\"index1.html\")\n",
    "\n",
    "\n",
    "@app.route('/', methods= ['POST'])\n",
    "def marks():\n",
    "\tif request.method == 'POST':\n",
    "\n",
    "\t\tf = request.files['userfile']\n",
    "\t\tpath = \"./static/{}\".format(f.filename)# ./static/images.jpg\n",
    "\t\tf.save(path)\n",
    "\n",
    "\t\tcaption = Caption_it.caption_this_image(path)\n",
    "\t\t\n",
    "\t\tresult_dic = {\n",
    "\t\t'image' : path,\n",
    "\t\t'caption' : caption\n",
    "\t\t}\n",
    "\n",
    "\treturn render_template(\"index1.html\", your_result =result_dic)\n",
    "\n",
    "if __name__ == '__main__':\n",
    "\t# app.debug = True\n",
    "\t# due to versions of keras we need to pass another paramter threaded = Flase to this run function\n",
    "\tapp.run(debug = False, threaded = False)"
   ]
  },
  {
   "cell_type": "code",
   "execution_count": null,
   "metadata": {},
   "outputs": [],
   "source": []
  }
 ],
 "metadata": {
  "kernelspec": {
   "display_name": "Python 3",
   "language": "python",
   "name": "python3"
  },
  "language_info": {
   "codemirror_mode": {
    "name": "ipython",
    "version": 3
   },
   "file_extension": ".py",
   "mimetype": "text/x-python",
   "name": "python",
   "nbconvert_exporter": "python",
   "pygments_lexer": "ipython3",
   "version": "3.8.5"
  }
 },
 "nbformat": 4,
 "nbformat_minor": 4
}
