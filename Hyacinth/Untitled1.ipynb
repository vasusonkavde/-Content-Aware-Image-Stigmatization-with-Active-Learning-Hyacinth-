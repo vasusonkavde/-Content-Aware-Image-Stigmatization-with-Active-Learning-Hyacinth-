{
 "cells": [
  {
   "cell_type": "code",
   "execution_count": 29,
   "metadata": {},
   "outputs": [
    {
     "name": "stdout",
     "output_type": "stream",
     "text": [
      "True\n"
     ]
    }
   ],
   "source": [
    "def Pali(s):\n",
    "    l, h = 0, len(s) - 1\n",
    "    s = s.lower()\n",
    "   \n",
    "   \n",
    "    while (l <= h):        \n",
    "        if (not(s[l] >= 'a' and s[l] <= 'z')):\n",
    "            l += 1\n",
    "   \n",
    "        \n",
    "        elif (not(s[h] >= 'a' and s[h] <= 'z')):\n",
    "            h -= 1\n",
    "   \n",
    "        \n",
    "        elif (s[l] == s[h]):\n",
    "            l += 1\n",
    "            h -= 1\n",
    "         \n",
    "        \n",
    "        else:\n",
    "            return False\n",
    "    \n",
    "    return True\n",
    "   \n",
    "\n",
    "s = \"Noel - sees Leon\"\n",
    "if (Pali(s)):\n",
    "    print (\"True\")\n",
    "else:\n",
    "    print (\"False\")\n",
    " \n",
    "    "
   ]
  },
  {
   "cell_type": "code",
   "execution_count": null,
   "metadata": {},
   "outputs": [],
   "source": []
  }
 ],
 "metadata": {
  "kernelspec": {
   "display_name": "Python 3",
   "language": "python",
   "name": "python3"
  },
  "language_info": {
   "codemirror_mode": {
    "name": "ipython",
    "version": 3
   },
   "file_extension": ".py",
   "mimetype": "text/x-python",
   "name": "python",
   "nbconvert_exporter": "python",
   "pygments_lexer": "ipython3",
   "version": "3.8.5"
  }
 },
 "nbformat": 4,
 "nbformat_minor": 4
}
